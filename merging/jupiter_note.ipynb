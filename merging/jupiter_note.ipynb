{
 "cells": [
  {
   "cell_type": "code",
   "execution_count": 18,
   "metadata": {},
   "outputs": [],
   "source": [
    "import numpy as np\n",
    "import pandas as pd\n",
    "import re\n",
    "\n",
    "\n",
    "data=pd.read_excel(io='./VertiPaq Analyzer 2.10.xlsm', sheet_name='Columns')"
   ]
  },
  {
   "cell_type": "code",
   "execution_count": 19,
   "metadata": {},
   "outputs": [],
   "source": [
    "data = data['IsRowNumber']\n",
    "data = data.drop(index=[0,1,322])\n",
    "data = pd.DataFrame(data)"
   ]
  },
  {
   "cell_type": "code",
   "execution_count": 22,
   "metadata": {},
   "outputs": [
    {
     "name": "stdout",
     "output_type": "stream",
     "text": [
      "            IsRowNumber\n",
      "2                   ABC\n",
      "3         LowerBoundary\n",
      "4         UpperBoundary\n",
      "5    ClassificationName\n",
      "6               cmdcode\n",
      "..                  ...\n",
      "317        TeritoriCode\n",
      "318       WarehouseCode\n",
      "319           ВидОплати\n",
      "320          СумаОплати\n",
      "321                NONE\n",
      "\n",
      "[320 rows x 1 columns]\n"
     ]
    }
   ],
   "source": [
    "for i, row in data.iterrows():\n",
    "    text = row['IsRowNumber']\n",
    "    if re.search(r\"\\[(\\w+)\\]\", text) is None:\n",
    "        ret='NONE'\n",
    "    else:\n",
    "        ret=re.search(r\"\\[(\\w+)\\]\", text).group(1)\n",
    "    row['IsRowNumber']=ret\n",
    "    #data.at[i,'IsRowNumber']=re.search(r\"\\[(\\w+)\\]\", row['IsRowNumber']).group()\n",
    "    #data.loc[i]=re.search(r\"\\[([A-Za-z0-9_]+)\\]\", data.loc[i])\n",
    "print(data)"
   ]
  }
 ],
 "metadata": {
  "kernelspec": {
   "display_name": "Python 3",
   "language": "python",
   "name": "python3"
  },
  "language_info": {
   "codemirror_mode": {
    "name": "ipython",
    "version": 3
   },
   "file_extension": ".py",
   "mimetype": "text/x-python",
   "name": "python",
   "nbconvert_exporter": "python",
   "pygments_lexer": "ipython3",
   "version": "3.11.3"
  },
  "orig_nbformat": 4
 },
 "nbformat": 4,
 "nbformat_minor": 2
}
